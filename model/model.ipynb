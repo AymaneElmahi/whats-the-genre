{
 "cells": [
  {
   "attachments": {},
   "cell_type": "markdown",
   "metadata": {},
   "source": [
    "# Modeling"
   ]
  },
  {
   "attachments": {},
   "cell_type": "markdown",
   "metadata": {},
   "source": [
    "## Vectorize the data\n",
    "\n",
    "Now that we have a dataframe with 3 columns :  `tokenized` (title + synopsis), `genre` and `length`, we can vectorize the data. We will use the `Bag-of-Words` method.\n"
   ]
  },
  {
   "cell_type": "code",
   "execution_count": 1,
   "metadata": {},
   "outputs": [
    {
     "name": "stderr",
     "output_type": "stream",
     "text": [
      "c:\\Users\\elmah\\AppData\\Local\\Programs\\Python\\Python39\\lib\\site-packages\\tqdm\\auto.py:21: TqdmWarning: IProgress not found. Please update jupyter and ipywidgets. See https://ipywidgets.readthedocs.io/en/stable/user_install.html\n",
      "  from .autonotebook import tqdm as notebook_tqdm\n",
      "[nltk_data] Downloading package stopwords to\n",
      "[nltk_data]     C:\\Users\\elmah\\AppData\\Roaming\\nltk_data...\n",
      "[nltk_data]   Package stopwords is already up-to-date!\n"
     ]
    }
   ],
   "source": [
    "import pandas as pd\n",
    "import numpy as np\n",
    "import matplotlib.pyplot as plt\n",
    "import sklearn as sk\n",
    "from sklearn.feature_extraction.text import CountVectorizer\n",
    "from sklearn.preprocessing import LabelEncoder\n",
    "from sklearn.model_selection import train_test_split\n",
    "from sklearn.feature_extraction.text import TfidfVectorizer\n",
    "from sklearn.tree import DecisionTreeClassifier\n",
    "from sklearn.metrics import accuracy_score\n",
    "from sklearn.svm import SVC\n",
    "from sklearn.linear_model import SGDClassifier\n",
    "from sklearn.ensemble import GradientBoostingClassifier\n",
    "from sklearn.ensemble import AdaBoostClassifier\n",
    "from sklearn.ensemble import RandomForestClassifier\n",
    "from sklearn.linear_model import LogisticRegression\n",
    "from sklearn.naive_bayes import MultinomialNB\n",
    "import pickle\n",
    "\n",
    "import sys\n",
    "sys.path.append('../preprocessing')\n",
    "\n",
    "from process import *"
   ]
  },
  {
   "cell_type": "code",
   "execution_count": 12,
   "metadata": {},
   "outputs": [],
   "source": [
    "df_train = pd.read_csv('../data/allocine_genres_train.csv')\n",
    "\n",
    "\n",
    "df_train = process_df(df_train)\n"
   ]
  },
  {
   "cell_type": "code",
   "execution_count": 13,
   "metadata": {},
   "outputs": [
    {
     "data": {
      "text/html": [
       "<div>\n",
       "<style scoped>\n",
       "    .dataframe tbody tr th:only-of-type {\n",
       "        vertical-align: middle;\n",
       "    }\n",
       "\n",
       "    .dataframe tbody tr th {\n",
       "        vertical-align: top;\n",
       "    }\n",
       "\n",
       "    .dataframe thead th {\n",
       "        text-align: right;\n",
       "    }\n",
       "</style>\n",
       "<table border=\"1\" class=\"dataframe\">\n",
       "  <thead>\n",
       "    <tr style=\"text-align: right;\">\n",
       "      <th></th>\n",
       "      <th>synopsis_title</th>\n",
       "      <th>genre</th>\n",
       "    </tr>\n",
       "  </thead>\n",
       "  <tbody>\n",
       "    <tr>\n",
       "      <th>0</th>\n",
       "      <td>visit a celebr detect belg embarqu orient expr...</td>\n",
       "      <td>policier</td>\n",
       "    </tr>\n",
       "    <tr>\n",
       "      <th>1</th>\n",
       "      <td>jeun homm origin modest accus meurtr per risqu...</td>\n",
       "      <td>drame</td>\n",
       "    </tr>\n",
       "    <tr>\n",
       "      <th>2</th>\n",
       "      <td>lorsqu mer quatr jeun enfant apprend brutal ca...</td>\n",
       "      <td>drame</td>\n",
       "    </tr>\n",
       "    <tr>\n",
       "      <th>3</th>\n",
       "      <td>vagabond eprend bel jeun vendeux fleur aveugl ...</td>\n",
       "      <td>romance</td>\n",
       "    </tr>\n",
       "    <tr>\n",
       "      <th>4</th>\n",
       "      <td>histoir vrai premi afro americain a avoir inte...</td>\n",
       "      <td>biopic</td>\n",
       "    </tr>\n",
       "  </tbody>\n",
       "</table>\n",
       "</div>"
      ],
      "text/plain": [
       "                                      synopsis_title     genre\n",
       "0  visit a celebr detect belg embarqu orient expr...  policier\n",
       "1  jeun homm origin modest accus meurtr per risqu...     drame\n",
       "2  lorsqu mer quatr jeun enfant apprend brutal ca...     drame\n",
       "3  vagabond eprend bel jeun vendeux fleur aveugl ...   romance\n",
       "4  histoir vrai premi afro americain a avoir inte...    biopic"
      ]
     },
     "execution_count": 13,
     "metadata": {},
     "output_type": "execute_result"
    }
   ],
   "source": [
    "df_train.head()"
   ]
  },
  {
   "attachments": {},
   "cell_type": "markdown",
   "metadata": {},
   "source": [
    "### TF-IDF"
   ]
  },
  {
   "attachments": {},
   "cell_type": "markdown",
   "metadata": {},
   "source": [
    "We will start by vectorizing the data using TF-IDF. TF-IDF stands for `Term Frequency - Inverse Document Frequency`. It is a numerical statistic that is intended to reflect how important a word is to a document in a collection or corpus. It is often used as a weighting factor in searches of information retrieval, text mining, and user modeling. The TF-IDF value increases proportionally to the number of times a word appears in the document and is offset by the number of documents in the corpus that contain the word, which helps to adjust for the fact that some words appear more frequently in general."
   ]
  },
  {
   "cell_type": "code",
   "execution_count": 14,
   "metadata": {},
   "outputs": [
    {
     "name": "stdout",
     "output_type": "stream",
     "text": [
      "DecisionTreeClassifier accuracy :  0.22956521739130434\n"
     ]
    }
   ],
   "source": [
    "X_train, X_test, y_train, y_test = train_test_split(df_train['synopsis_title'], df_train['genre'], test_size=0.2, random_state=42)\n",
    "\n",
    "models = []\n",
    "accuracy_scores = []\n",
    "\n",
    "\n",
    "vectorizer = TfidfVectorizer(ngram_range = (1,1), max_df=0.85,min_df=0.01,lowercase=False)\n",
    "tfid_X_train = vectorizer.fit_transform(X_train)\n",
    "\n",
    "clf = DecisionTreeClassifier(random_state=42)\n",
    "clf.fit(tfid_X_train, y_train)\n",
    "\n",
    "tfid_X_test = vectorizer.transform(X_test)\n",
    "y_pred = clf.predict(tfid_X_test)\n",
    "\n",
    "print(\"DecisionTreeClassifier accuracy : \", accuracy_score(y_test, y_pred))\n",
    "models.append(\"DecisionTreeClassifier\")\n",
    "accuracy_scores.append(accuracy_score(y_test, y_pred))\n"
   ]
  },
  {
   "cell_type": "code",
   "execution_count": 15,
   "metadata": {},
   "outputs": [
    {
     "name": "stdout",
     "output_type": "stream",
     "text": [
      "MultinomialNB accuracy :  0.43478260869565216\n"
     ]
    }
   ],
   "source": [
    "\n",
    "\n",
    "clf = MultinomialNB()\n",
    "clf.fit(tfid_X_train, y_train)\n",
    "\n",
    "y_pred = clf.predict(tfid_X_test)\n",
    "\n",
    "print(\"MultinomialNB accuracy : \", accuracy_score(y_test, y_pred))\n",
    "models.append(\"MultinomialNB\")\n",
    "accuracy_scores.append(accuracy_score(y_test, y_pred))"
   ]
  },
  {
   "cell_type": "code",
   "execution_count": 16,
   "metadata": {},
   "outputs": [
    {
     "name": "stdout",
     "output_type": "stream",
     "text": [
      "LogisticRegression accuracy :  0.45565217391304347\n"
     ]
    }
   ],
   "source": [
    "\n",
    "\n",
    "clf = LogisticRegression(random_state=42)\n",
    "clf.fit(tfid_X_train, y_train)\n",
    "\n",
    "y_pred = clf.predict(tfid_X_test)\n",
    "\n",
    "print(\"LogisticRegression accuracy : \", accuracy_score(y_test, y_pred))\n",
    "models.append(\"LogisticRegression\")\n",
    "accuracy_scores.append(accuracy_score(y_test, y_pred))"
   ]
  },
  {
   "cell_type": "code",
   "execution_count": 17,
   "metadata": {},
   "outputs": [
    {
     "name": "stdout",
     "output_type": "stream",
     "text": [
      "RandomForestClassifier accuracy :  0.41043478260869565\n"
     ]
    }
   ],
   "source": [
    "\n",
    "\n",
    "clf = RandomForestClassifier(random_state=42)\n",
    "clf.fit(tfid_X_train, y_train)\n",
    "\n",
    "y_pred = clf.predict(tfid_X_test)\n",
    "\n",
    "print(\"RandomForestClassifier accuracy : \", accuracy_score(y_test, y_pred))\n",
    "models.append(\"RandomForestClassifier\")\n",
    "accuracy_scores.append(accuracy_score(y_test, y_pred))"
   ]
  },
  {
   "cell_type": "code",
   "execution_count": 18,
   "metadata": {},
   "outputs": [
    {
     "name": "stdout",
     "output_type": "stream",
     "text": [
      "AdaBoostClassifier accuracy :  0.3234782608695652\n"
     ]
    }
   ],
   "source": [
    "\n",
    "\n",
    "clf = AdaBoostClassifier(random_state=42)\n",
    "clf.fit(tfid_X_train, y_train)\n",
    "\n",
    "y_pred = clf.predict(tfid_X_test)\n",
    "\n",
    "print(\"AdaBoostClassifier accuracy : \", accuracy_score(y_test, y_pred))\n",
    "models.append(\"AdaBoostClassifier\")\n",
    "accuracy_scores.append(accuracy_score(y_test, y_pred))"
   ]
  },
  {
   "cell_type": "code",
   "execution_count": 19,
   "metadata": {},
   "outputs": [
    {
     "name": "stdout",
     "output_type": "stream",
     "text": [
      "GradientBoostingClassifier accuracy :  0.38956521739130434\n"
     ]
    }
   ],
   "source": [
    "\n",
    "\n",
    "clf = GradientBoostingClassifier(random_state=42)\n",
    "clf.fit(tfid_X_train, y_train)\n",
    "\n",
    "y_pred = clf.predict(tfid_X_test)\n",
    "\n",
    "print(\"GradientBoostingClassifier accuracy : \", accuracy_score(y_test, y_pred))\n",
    "models.append(\"GradientBoostingClassifier\")\n",
    "accuracy_scores.append(accuracy_score(y_test, y_pred))"
   ]
  },
  {
   "cell_type": "code",
   "execution_count": 20,
   "metadata": {},
   "outputs": [
    {
     "name": "stdout",
     "output_type": "stream",
     "text": [
      "SGDClassifier accuracy :  0.4017391304347826\n"
     ]
    }
   ],
   "source": [
    "\n",
    "\n",
    "clf = SGDClassifier(random_state=42)\n",
    "clf.fit(tfid_X_train, y_train)\n",
    "\n",
    "y_pred = clf.predict(tfid_X_test)\n",
    "\n",
    "print(\"SGDClassifier accuracy : \", accuracy_score(y_test, y_pred))\n",
    "models.append(\"SGDClassifier\")\n",
    "accuracy_scores.append(accuracy_score(y_test, y_pred))\n"
   ]
  },
  {
   "cell_type": "code",
   "execution_count": 21,
   "metadata": {},
   "outputs": [
    {
     "name": "stdout",
     "output_type": "stream",
     "text": [
      "SVC accuracy :  0.44\n"
     ]
    }
   ],
   "source": [
    "\n",
    "\n",
    "clf = SVC(random_state=42)\n",
    "clf.fit(tfid_X_train, y_train)\n",
    "\n",
    "y_pred = clf.predict(tfid_X_test)\n",
    "\n",
    "print(\"SVC accuracy : \", accuracy_score(y_test, y_pred))\n",
    "models.append(\"SVC\")\n",
    "accuracy_scores.append(accuracy_score(y_test, y_pred))"
   ]
  },
  {
   "cell_type": "code",
   "execution_count": 22,
   "metadata": {},
   "outputs": [
    {
     "data": {
      "image/png": "[encoded data removed]",
      "text/plain": [
       "<Figure size 2000x1000 with 1 Axes>"
      ]
     },
     "metadata": {},
     "output_type": "display_data"
    }
   ],
   "source": [
    "# plot the accuracy of each model\n",
    "plt.figure(figsize=(20,10))\n",
    "plt.bar(models, accuracy_scores)\n",
    "plt.title(\"Accuracy of each model\")\n",
    "plt.show()\n",
    "\n"
   ]
  },
  {
   "attachments": {},
   "cell_type": "markdown",
   "metadata": {},
   "source": [
    "We can see that Logistic Regression has the best score with TF-IDF. We will use this model to predict the genre of the movies.But first, we will try to improve the score by using a different vectorizer like Bag-of-Words."
   ]
  },
  {
   "attachments": {},
   "cell_type": "markdown",
   "metadata": {},
   "source": [
    "### Bag-of-Words"
   ]
  },
  {
   "cell_type": "code",
   "execution_count": 23,
   "metadata": {},
   "outputs": [
    {
     "name": "stdout",
     "output_type": "stream",
     "text": [
      "DecisionTreeClassifier accuracy :  0.26608695652173914\n"
     ]
    }
   ],
   "source": [
    "# bag of words\n",
    "\n",
    "models_bow = []\n",
    "accuracy_scores_bow = []\n",
    "\n",
    "vectorizer = CountVectorizer(ngram_range = (1,1), max_df=0.85,min_df=0.01,lowercase=False)\n",
    "bow_X_train = vectorizer.fit_transform(X_train)\n",
    "\n",
    "clf = DecisionTreeClassifier(random_state=42)\n",
    "clf.fit(bow_X_train, y_train)\n",
    "\n",
    "bow_X_test = vectorizer.transform(X_test)\n",
    "y_pred = clf.predict(bow_X_test)\n",
    "\n",
    "print(\"DecisionTreeClassifier accuracy : \", accuracy_score(y_test, y_pred))\n",
    "models_bow.append(\"DecisionTreeClassifier\")\n",
    "accuracy_scores_bow.append(accuracy_score(y_test, y_pred))\n"
   ]
  },
  {
   "cell_type": "code",
   "execution_count": 24,
   "metadata": {},
   "outputs": [
    {
     "name": "stdout",
     "output_type": "stream",
     "text": [
      "MultinomialNB accuracy :  0.48869565217391303\n"
     ]
    }
   ],
   "source": [
    "clf = MultinomialNB()\n",
    "clf.fit(bow_X_train, y_train)\n",
    "\n",
    "y_pred = clf.predict(bow_X_test)\n",
    "\n",
    "print(\"MultinomialNB accuracy : \", accuracy_score(y_test, y_pred))\n",
    "models_bow.append(\"MultinomialNB\")\n",
    "accuracy_scores_bow.append(accuracy_score(y_test, y_pred))"
   ]
  },
  {
   "cell_type": "code",
   "execution_count": 25,
   "metadata": {},
   "outputs": [
    {
     "name": "stdout",
     "output_type": "stream",
     "text": [
      "LogisticRegression accuracy :  0.4156521739130435\n"
     ]
    },
    {
     "name": "stderr",
     "output_type": "stream",
     "text": [
      "c:\\Users\\elmah\\AppData\\Local\\Programs\\Python\\Python39\\lib\\site-packages\\sklearn\\linear_model\\_logistic.py:458: ConvergenceWarning: lbfgs failed to converge (status=1):\n",
      "STOP: TOTAL NO. of ITERATIONS REACHED LIMIT.\n",
      "\n",
      "Increase the number of iterations (max_iter) or scale the data as shown in:\n",
      "    https://scikit-learn.org/stable/modules/preprocessing.html\n",
      "Please also refer to the documentation for alternative solver options:\n",
      "    https://scikit-learn.org/stable/modules/linear_model.html#logistic-regression\n",
      "  n_iter_i = _check_optimize_result(\n"
     ]
    }
   ],
   "source": [
    "clf = LogisticRegression(random_state=42)\n",
    "clf.fit(bow_X_train, y_train)\n",
    "\n",
    "y_pred = clf.predict(bow_X_test)\n",
    "\n",
    "print(\"LogisticRegression accuracy : \", accuracy_score(y_test, y_pred))\n",
    "models_bow.append(\"LogisticRegression\")\n",
    "accuracy_scores_bow.append(accuracy_score(y_test, y_pred))"
   ]
  },
  {
   "cell_type": "code",
   "execution_count": 26,
   "metadata": {},
   "outputs": [
    {
     "name": "stdout",
     "output_type": "stream",
     "text": [
      "RandomForestClassifier accuracy :  0.4\n"
     ]
    }
   ],
   "source": [
    "clf = RandomForestClassifier(random_state=42)\n",
    "clf.fit(bow_X_train, y_train)\n",
    "\n",
    "y_pred = clf.predict(bow_X_test)\n",
    "\n",
    "print(\"RandomForestClassifier accuracy : \", accuracy_score(y_test, y_pred))\n",
    "models_bow.append(\"RandomForestClassifier\")\n",
    "accuracy_scores_bow.append(accuracy_score(y_test, y_pred))"
   ]
  },
  {
   "cell_type": "code",
   "execution_count": 27,
   "metadata": {},
   "outputs": [
    {
     "name": "stdout",
     "output_type": "stream",
     "text": [
      "AdaBoostClassifier accuracy :  0.3808695652173913\n"
     ]
    }
   ],
   "source": [
    "clf = AdaBoostClassifier(random_state=42)\n",
    "clf.fit(bow_X_train, y_train)\n",
    "\n",
    "y_pred = clf.predict(bow_X_test)\n",
    "\n",
    "print(\"AdaBoostClassifier accuracy : \", accuracy_score(y_test, y_pred))\n",
    "models_bow.append(\"AdaBoostClassifier\")\n",
    "accuracy_scores_bow.append(accuracy_score(y_test, y_pred))"
   ]
  },
  {
   "cell_type": "code",
   "execution_count": 28,
   "metadata": {},
   "outputs": [
    {
     "name": "stdout",
     "output_type": "stream",
     "text": [
      "GradientBoostingClassifier accuracy :  0.39304347826086955\n"
     ]
    }
   ],
   "source": [
    "clf = GradientBoostingClassifier(random_state=42)\n",
    "clf.fit(bow_X_train, y_train)\n",
    "\n",
    "y_pred = clf.predict(bow_X_test)\n",
    "\n",
    "print(\"GradientBoostingClassifier accuracy : \", accuracy_score(y_test, y_pred))\n",
    "models_bow.append(\"GradientBoostingClassifier\")\n",
    "accuracy_scores_bow.append(accuracy_score(y_test, y_pred))\n"
   ]
  },
  {
   "cell_type": "code",
   "execution_count": 29,
   "metadata": {},
   "outputs": [
    {
     "name": "stdout",
     "output_type": "stream",
     "text": [
      "SGDClassifier accuracy :  0.34608695652173915\n"
     ]
    }
   ],
   "source": [
    "clf = SGDClassifier(random_state=42)\n",
    "clf.fit(bow_X_train, y_train)\n",
    "\n",
    "y_pred = clf.predict(bow_X_test)\n",
    "\n",
    "print(\"SGDClassifier accuracy : \", accuracy_score(y_test, y_pred))\n",
    "models_bow.append(\"SGDClassifier\")\n",
    "accuracy_scores_bow.append(accuracy_score(y_test, y_pred))\n"
   ]
  },
  {
   "cell_type": "code",
   "execution_count": 30,
   "metadata": {},
   "outputs": [
    {
     "name": "stdout",
     "output_type": "stream",
     "text": [
      "SVC accuracy :  0.40347826086956523\n"
     ]
    }
   ],
   "source": [
    "clf = SVC(random_state=42)\n",
    "clf.fit(bow_X_train, y_train)\n",
    "\n",
    "y_pred = clf.predict(bow_X_test)\n",
    "\n",
    "print(\"SVC accuracy : \", accuracy_score(y_test, y_pred))\n",
    "models_bow.append(\"SVC\")\n",
    "accuracy_scores_bow.append(accuracy_score(y_test, y_pred))"
   ]
  },
  {
   "cell_type": "code",
   "execution_count": 31,
   "metadata": {},
   "outputs": [
    {
     "data": {
      "image/png": "[encoded data removed]",
      "text/plain": [
       "<Figure size 2000x1000 with 1 Axes>"
      ]
     },
     "metadata": {},
     "output_type": "display_data"
    }
   ],
   "source": [
    "# plot the accuracy of each model and compare with tf-idf\n",
    "plt.figure(figsize=(20,10))\n",
    "plt.bar(models, accuracy_scores, label=\"tf-idf\")\n",
    "plt.bar(models_bow, accuracy_scores_bow, label=\"bag of words\")\n",
    "plt.title(\"Accuracy of each model\")\n",
    "plt.legend()\n",
    "plt.show()\n"
   ]
  },
  {
   "attachments": {},
   "cell_type": "markdown",
   "metadata": {},
   "source": [
    "We can see that Multinomial Naive Bayes has the best score with Bag-of-Words. We will use this model to predict the genre of the movies."
   ]
  },
  {
   "attachments": {},
   "cell_type": "markdown",
   "metadata": {},
   "source": [
    "## Test the model"
   ]
  },
  {
   "attachments": {},
   "cell_type": "markdown",
   "metadata": {},
   "source": [
    "We will now test our model on our test set using the Bag-of-Words vectorizer with Multinomial Naive Bayes."
   ]
  },
  {
   "cell_type": "code",
   "execution_count": 5,
   "metadata": {},
   "outputs": [
    {
     "name": "stdout",
     "output_type": "stream",
     "text": [
      "MultinomialNB accuracy :  0.4965229485396384\n",
      "Predicted genres :  ['policier' 'documentaire' 'romance']\n"
     ]
    }
   ],
   "source": [
    "# test the model with new data using our best model, bow with MultinomialNB\n",
    "from sklearn.naive_bayes import MultinomialNB\n",
    "# clf = MultinomialNB()\n",
    "# clf.fit(bow_X_train, y_train)\n",
    "\n",
    "# # save the model\n",
    "# pickle.dump(clf, open(\"model.pkl\", \"wb\"))\n",
    "# pickle.dump(vectorizer, open(\"vectorizer.pkl\", \"wb\"))\n",
    "\n",
    "\n",
    "# load the model\n",
    "model = pickle.load(open(\"trained_model/model.pkl\", \"rb\"))\n",
    "vectorizer = pickle.load(open(\"trained_model/vectorizer.pkl\", \"rb\"))\n",
    "\n",
    "# test with new data\n",
    "df_test = pd.read_csv('../data/allocine_genres_test.csv')\n",
    "df_test = process_df(df_test)\n",
    "\n",
    "X_test = df_test[\"synopsis_title\"]\n",
    "y_test = df_test[\"genre\"]\n",
    "\n",
    "bow_X_test = vectorizer.transform(X_test)\n",
    "y_pred = model.predict(bow_X_test)\n",
    "\n",
    "print(\"MultinomialNB accuracy : \", accuracy_score(y_test, y_pred))\n",
    "\n",
    "# lets try with a new synopsis\n",
    "synopsis = \"Dans la ville de New York, le détective John Smith est sur la piste d'un tueur en série qui terrorise la ville depuis plusieurs mois. Alors que l'enquête piétine, le meurtrier continue de sévir et les victimes s'accumulent. John, qui est hanté par ses propres démons, est déterminé à arrêter le tueur avant qu'il ne frappe à nouveau. Au fil de l'enquête, John rencontre plusieurs personnages suspects, dont une ex-petite amie du tueur et un membre influent de la mafia locale. Il doit naviguer dans un monde sombre et dangereux pour découvrir la vérité sur l'identité du tueur. Alors que les indices s'accumulent et que la pression monte, John doit faire face à ses propres démons intérieurs et aux doutes de ses collègues. Dans une course contre la montre, il doit résoudre le mystère avant qu'il ne soit trop tard et que le tueur ne frappe de nouveau. Le film est rempli de suspense, de tension et de rebondissements jusqu'à son dénouement final choquant.\"\n",
    "titre = \"Au coeur de la nuit\"\n",
    "\n",
    "synopsis_2 = \"Nous suivons Marie Curie dès ses débuts en Pologne, alors qu'elle doit lutter contre les préjugés de genre pour poursuivre ses études scientifiques. Elle rencontre ensuite Pierre Curie, un physicien français, et ils tombent amoureux. Ensemble, ils commencent à travailler sur la radioactivité et découvrent le radium et le polonium, pour lesquels ils reçoivent le prix Nobel de physique en 1903. Mais leur travail n'a pas été facile et ils ont dû surmonter de nombreux obstacles, notamment les préjugés de genre et les réticences de la communauté scientifique. Ils ont également dû faire face à des tragédies personnelles, notamment la mort prématurée de Pierre. Après la mort de Pierre, Marie poursuit ses recherches et devient la première femme professeure à la Sorbonne. Elle reçoit également un deuxième prix Nobel, cette fois en chimie, pour son travail sur les éléments radioactifs. Le film montre comment Marie Curie a changé la face de la science et a ouvert la voie à d'autres femmes scientifiques. Mais il montre également les sacrifices qu'elle a dû faire pour y parvenir, notamment la lutte pour concilier son travail et sa vie de famille. Le film est une célébration de la vie extraordinaire de Marie Curie, une femme qui a brisé les barrières et ouvert la voie à de nouvelles découvertes scientifiques\"\n",
    "titre_2 = \"La vie extraordinaire de Marie Curie\"\n",
    "\n",
    "synopsis_3 = \"Sophie est une jeune femme ambitieuse qui travaille dans une grande entreprise. Elle est passionnée par son travail et sa vie sentimentale est au second plan. Un jour, elle rencontre Jake, un artiste bohème et charismatique. Malgré leurs différences, ils sont attirés l'un par l'autre et commencent une relation. Leur amour est intense et passionné, mais leur relation est mise à rude épreuve par les différences de leurs vies. Sophie doit naviguer dans le monde des arts de Jake, qui est très différent de son monde d'affaires. Et Jake doit faire face aux attentes de Sophie en matière de stabilité et de sécurité financière. Alors que leur relation devient de plus en plus sérieuse, ils doivent faire face à des défis imprévus qui mettent leur amour à l'épreuve. Ils doivent trouver un équilibre entre leurs vies et leurs rêves, tout en restant fidèles l'un à l'autre. Le film montre comment l'amour peut être imprévisible et inattendu, et comment il peut nous amener à repenser nos priorités et nos choix de vie. Les personnages principaux sont confrontés à des choix difficiles, mais ils sont prêts à tout pour leur amour. Le film est rempli de scènes romantiques, de moments d'humour et d'émotion, et offre une belle réflexion sur la vie et l'amour.\"\n",
    "titre_3 = \"Un Amour Inattendu\"\n",
    "\n",
    "# create a dataframe with the two new movie with two columns, synopsis and title\n",
    "df_new = pd.DataFrame()\n",
    "df_new[\"synopsis\"] = [synopsis, synopsis_2, synopsis_3]\n",
    "df_new[\"titre\"] = [titre, titre_2, titre_3]\n",
    "\n",
    "# process the dataframe\n",
    "df_new = process_df(df_new, train = False)\n",
    "\n",
    "# predict the genre\n",
    "bow_X_new = vectorizer.transform(df_new[\"synopsis_title\"])\n",
    "y_pred_new = model.predict(bow_X_new)\n",
    "\n",
    "print(\"Predicted genres : \", y_pred_new)\n",
    "\n",
    "\n"
   ]
  },
  {
   "attachments": {},
   "cell_type": "markdown",
   "metadata": {},
   "source": [
    "We can see that our model has a score of 0.49. For a first model, it is not bad. We will work with this model."
   ]
  },
  {
   "attachments": {},
   "cell_type": "markdown",
   "metadata": {},
   "source": [
    "## Conclusion"
   ]
  },
  {
   "attachments": {},
   "cell_type": "markdown",
   "metadata": {},
   "source": [
    "We tested the model on some custom data and it seems to work well. It seems that the synopsis needs to be long enough to be able to predict the genre of the movie."
   ]
  }
 ],
 "metadata": {
  "kernelspec": {
   "display_name": "Python 3",
   "language": "python",
   "name": "python3"
  },
  "language_info": {
   "codemirror_mode": {
    "name": "ipython",
    "version": 3
   },
   "file_extension": ".py",
   "mimetype": "text/x-python",
   "name": "python",
   "nbconvert_exporter": "python",
   "pygments_lexer": "ipython3",
   "version": "3.9.0"
  },
  "orig_nbformat": 4
 },
 "nbformat": 4,
 "nbformat_minor": 2
}
