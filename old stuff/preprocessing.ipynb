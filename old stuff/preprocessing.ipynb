{
 "cells": [
  {
   "attachments": {},
   "cell_type": "markdown",
   "metadata": {},
   "source": [
    "# Preprocessing and Data Visualization"
   ]
  },
  {
   "attachments": {},
   "cell_type": "markdown",
   "metadata": {},
   "source": [
    "In this project, our goal is to develop a system for information retrieval in a collection of film descriptions published on Allociné. Specifically, we will focus on automatically classifying films by their genre based on the text of their synopsis and title."
   ]
  },
  {
   "attachments": {},
   "cell_type": "markdown",
   "metadata": {},
   "source": [
    "## Problem Understanding\n",
    "\n",
    "The project involves developing a system for information retrieval in a collection of film descriptions from Allociné. The project is divided into two steps, with the first step focusing on training an automated film genre classification tool based on the synopsis and title of the films. The training will be conducted using two CSV files of French-language film descriptions provided on Moodle. Different classification algorithms and text features will be compared and evaluated using best practices such as cross-validation. The second step will involve applying the selected model to a new dataset and producing labeled data with predicted genres."
   ]
  },
  {
   "attachments": {},
   "cell_type": "markdown",
   "metadata": {},
   "source": [
    "## Data Understanding\n",
    "\n",
    "The data is provided in two CSV files, one for training and one for testing. The training data contains 2875 films with the following 22 fields:\n",
    "\n",
    "- acteur_1\n",
    "- acteur_2\n",
    "- acteur_3\n",
    "- allocine_id\n",
    "- annee_prod\n",
    "- annee_sortie\n",
    "- box_office_fr\n",
    "- couleur\n",
    "- duree\n",
    "- langues\n",
    "- nationalite\n",
    "- nb_critiques_presse\n",
    "- nb_critique_spectateurs\n",
    "- nb_notes_spectateurs\n",
    "- note_presse\n",
    "- note_spectateurs\n",
    "- realisateurs\n",
    "- synopsis\n",
    "- type_film\n",
    "- genre"
   ]
  },
  {
   "cell_type": "code",
   "execution_count": 2,
   "metadata": {},
   "outputs": [
    {
     "name": "stderr",
     "output_type": "stream",
     "text": [
      "[nltk_data] Downloading package stopwords to\n",
      "[nltk_data]     C:\\Users\\elmah\\AppData\\Roaming\\nltk_data...\n",
      "[nltk_data]   Package stopwords is already up-to-date!\n",
      "c:\\Users\\elmah\\AppData\\Local\\Programs\\Python\\Python39\\lib\\site-packages\\tqdm\\auto.py:21: TqdmWarning: IProgress not found. Please update jupyter and ipywidgets. See https://ipywidgets.readthedocs.io/en/stable/user_install.html\n",
      "  from .autonotebook import tqdm as notebook_tqdm\n"
     ]
    }
   ],
   "source": [
    "import pandas as pd\n",
    "import numpy as np\n",
    "import matplotlib.pyplot as plt\n",
    "import plotly.express as px\n",
    "import tensorflow as tf\n",
    "import plotly.graph_objs as go\n",
    "import string \n",
    "import nltk\n",
    "nltk.download('stopwords')\n",
    "import nlp\n",
    "import spacy\n",
    "\n"
   ]
  },
  {
   "attachments": {},
   "cell_type": "markdown",
   "metadata": {},
   "source": [
    "#### Read the data\n"
   ]
  },
  {
   "cell_type": "code",
   "execution_count": 3,
   "metadata": {},
   "outputs": [
    {
     "data": {
      "text/html": [
       "<div>\n",
       "<style scoped>\n",
       "    .dataframe tbody tr th:only-of-type {\n",
       "        vertical-align: middle;\n",
       "    }\n",
       "\n",
       "    .dataframe tbody tr th {\n",
       "        vertical-align: top;\n",
       "    }\n",
       "\n",
       "    .dataframe thead th {\n",
       "        text-align: right;\n",
       "    }\n",
       "</style>\n",
       "<table border=\"1\" class=\"dataframe\">\n",
       "  <thead>\n",
       "    <tr style=\"text-align: right;\">\n",
       "      <th></th>\n",
       "      <th>Unnamed: 0</th>\n",
       "      <th>acteur_1</th>\n",
       "      <th>acteur_2</th>\n",
       "      <th>acteur_3</th>\n",
       "      <th>allocine_id</th>\n",
       "      <th>annee_prod</th>\n",
       "      <th>annee_sortie</th>\n",
       "      <th>box_office_fr</th>\n",
       "      <th>couleur</th>\n",
       "      <th>duree</th>\n",
       "      <th>...</th>\n",
       "      <th>nb_critiques_presse</th>\n",
       "      <th>nb_critiques_spectateurs</th>\n",
       "      <th>nb_notes_spectateurs</th>\n",
       "      <th>note_presse</th>\n",
       "      <th>note_spectateurs</th>\n",
       "      <th>realisateurs</th>\n",
       "      <th>synopsis</th>\n",
       "      <th>titre</th>\n",
       "      <th>type_film</th>\n",
       "      <th>genre</th>\n",
       "    </tr>\n",
       "  </thead>\n",
       "  <tbody>\n",
       "    <tr>\n",
       "      <th>0</th>\n",
       "      <td>4772</td>\n",
       "      <td>Albert Finney</td>\n",
       "      <td>Lauren Bacall</td>\n",
       "      <td>Jacqueline Bisset</td>\n",
       "      <td>1453</td>\n",
       "      <td>1974</td>\n",
       "      <td>1975.0</td>\n",
       "      <td>549055.0</td>\n",
       "      <td>Couleur</td>\n",
       "      <td>128.0</td>\n",
       "      <td>...</td>\n",
       "      <td>NaN</td>\n",
       "      <td>125.0</td>\n",
       "      <td>2045.0</td>\n",
       "      <td>NaN</td>\n",
       "      <td>3.7</td>\n",
       "      <td>Sidney Lumet</td>\n",
       "      <td>En visite à Istanbul , le célèbre détective be...</td>\n",
       "      <td>Le Crime de l' Orient - Express</td>\n",
       "      <td>NaN</td>\n",
       "      <td>policier</td>\n",
       "    </tr>\n",
       "    <tr>\n",
       "      <th>1</th>\n",
       "      <td>335</td>\n",
       "      <td>Henry Fonda</td>\n",
       "      <td>Martin Balsam</td>\n",
       "      <td>John Fiedler</td>\n",
       "      <td>4063</td>\n",
       "      <td>1957</td>\n",
       "      <td>1957.0</td>\n",
       "      <td>NaN</td>\n",
       "      <td>NaN</td>\n",
       "      <td>95.0</td>\n",
       "      <td>...</td>\n",
       "      <td>7.0</td>\n",
       "      <td>771.0</td>\n",
       "      <td>18670.0</td>\n",
       "      <td>5.0</td>\n",
       "      <td>4.6</td>\n",
       "      <td>Sidney Lumet</td>\n",
       "      <td>Un jeune homme d' origine modeste est accusé d...</td>\n",
       "      <td>12 hommes en colère</td>\n",
       "      <td>NaN</td>\n",
       "      <td>drame</td>\n",
       "    </tr>\n",
       "    <tr>\n",
       "      <th>2</th>\n",
       "      <td>4860</td>\n",
       "      <td>Alexandra Lamy</td>\n",
       "      <td>Michaël Abiteboul</td>\n",
       "      <td>Julia Piaton</td>\n",
       "      <td>241952</td>\n",
       "      <td>2016</td>\n",
       "      <td>2019.0</td>\n",
       "      <td>NaN</td>\n",
       "      <td>Couleur</td>\n",
       "      <td>90.0</td>\n",
       "      <td>...</td>\n",
       "      <td>NaN</td>\n",
       "      <td>22.0</td>\n",
       "      <td>242.0</td>\n",
       "      <td>NaN</td>\n",
       "      <td>4.2</td>\n",
       "      <td>Nicolas Cuche</td>\n",
       "      <td>Lorsque Marie-Laure , mère de quatre jeunes en...</td>\n",
       "      <td>Après moi le bonheur</td>\n",
       "      <td>Télefilm</td>\n",
       "      <td>drame</td>\n",
       "    </tr>\n",
       "    <tr>\n",
       "      <th>3</th>\n",
       "      <td>1913</td>\n",
       "      <td>Charles Chaplin</td>\n",
       "      <td>Virginia Cherrill</td>\n",
       "      <td>Harry Myers</td>\n",
       "      <td>2256</td>\n",
       "      <td>1931</td>\n",
       "      <td>1931.0</td>\n",
       "      <td>NaN</td>\n",
       "      <td>NaN</td>\n",
       "      <td>87.0</td>\n",
       "      <td>...</td>\n",
       "      <td>4.0</td>\n",
       "      <td>190.0</td>\n",
       "      <td>6185.0</td>\n",
       "      <td>4.5</td>\n",
       "      <td>4.4</td>\n",
       "      <td>Charles Chaplin</td>\n",
       "      <td>Un vagabond s’ éprend d’ une belle et jeune ve...</td>\n",
       "      <td>Les Lumières de la ville</td>\n",
       "      <td>NaN</td>\n",
       "      <td>romance</td>\n",
       "    </tr>\n",
       "    <tr>\n",
       "      <th>4</th>\n",
       "      <td>3726</td>\n",
       "      <td>Robert De Niro</td>\n",
       "      <td>Cuba Gooding Jr.</td>\n",
       "      <td>Charlize Theron</td>\n",
       "      <td>27434</td>\n",
       "      <td>2000</td>\n",
       "      <td>2001.0</td>\n",
       "      <td>221677.0</td>\n",
       "      <td>Couleur</td>\n",
       "      <td>129.0</td>\n",
       "      <td>...</td>\n",
       "      <td>17.0</td>\n",
       "      <td>104.0</td>\n",
       "      <td>1619.0</td>\n",
       "      <td>2.4</td>\n",
       "      <td>3.6</td>\n",
       "      <td>George Tillman Jr.</td>\n",
       "      <td>L' histoire vraie de Carl Brashear , premier A...</td>\n",
       "      <td>Les Chemins de la dignité</td>\n",
       "      <td>Long-métrage</td>\n",
       "      <td>biopic</td>\n",
       "    </tr>\n",
       "  </tbody>\n",
       "</table>\n",
       "<p>5 rows × 22 columns</p>\n",
       "</div>"
      ],
      "text/plain": [
       "   Unnamed: 0         acteur_1           acteur_2           acteur_3  \\\n",
       "0        4772    Albert Finney      Lauren Bacall  Jacqueline Bisset   \n",
       "1         335      Henry Fonda      Martin Balsam       John Fiedler   \n",
       "2        4860   Alexandra Lamy  Michaël Abiteboul       Julia Piaton   \n",
       "3        1913  Charles Chaplin  Virginia Cherrill        Harry Myers   \n",
       "4        3726   Robert De Niro   Cuba Gooding Jr.    Charlize Theron   \n",
       "\n",
       "   allocine_id  annee_prod  annee_sortie  box_office_fr  couleur  duree  ...  \\\n",
       "0         1453        1974        1975.0       549055.0  Couleur  128.0  ...   \n",
       "1         4063        1957        1957.0            NaN      NaN   95.0  ...   \n",
       "2       241952        2016        2019.0            NaN  Couleur   90.0  ...   \n",
       "3         2256        1931        1931.0            NaN      NaN   87.0  ...   \n",
       "4        27434        2000        2001.0       221677.0  Couleur  129.0  ...   \n",
       "\n",
       "  nb_critiques_presse nb_critiques_spectateurs  nb_notes_spectateurs  \\\n",
       "0                 NaN                    125.0                2045.0   \n",
       "1                 7.0                    771.0               18670.0   \n",
       "2                 NaN                     22.0                 242.0   \n",
       "3                 4.0                    190.0                6185.0   \n",
       "4                17.0                    104.0                1619.0   \n",
       "\n",
       "   note_presse  note_spectateurs        realisateurs  \\\n",
       "0          NaN               3.7        Sidney Lumet   \n",
       "1          5.0               4.6        Sidney Lumet   \n",
       "2          NaN               4.2       Nicolas Cuche   \n",
       "3          4.5               4.4     Charles Chaplin   \n",
       "4          2.4               3.6  George Tillman Jr.   \n",
       "\n",
       "                                            synopsis  \\\n",
       "0  En visite à Istanbul , le célèbre détective be...   \n",
       "1  Un jeune homme d' origine modeste est accusé d...   \n",
       "2  Lorsque Marie-Laure , mère de quatre jeunes en...   \n",
       "3  Un vagabond s’ éprend d’ une belle et jeune ve...   \n",
       "4  L' histoire vraie de Carl Brashear , premier A...   \n",
       "\n",
       "                             titre     type_film     genre  \n",
       "0  Le Crime de l' Orient - Express           NaN  policier  \n",
       "1              12 hommes en colère           NaN     drame  \n",
       "2             Après moi le bonheur      Télefilm     drame  \n",
       "3         Les Lumières de la ville           NaN   romance  \n",
       "4        Les Chemins de la dignité  Long-métrage    biopic  \n",
       "\n",
       "[5 rows x 22 columns]"
      ]
     },
     "execution_count": 3,
     "metadata": {},
     "output_type": "execute_result"
    }
   ],
   "source": [
    "df = pd.read_csv('../data/allocine_genres_train.csv')\n",
    "\n",
    "df.head()"
   ]
  },
  {
   "cell_type": "code",
   "execution_count": 4,
   "metadata": {},
   "outputs": [
    {
     "name": "stdout",
     "output_type": "stream",
     "text": [
      "<class 'pandas.core.frame.DataFrame'>\n",
      "RangeIndex: 2875 entries, 0 to 2874\n",
      "Data columns (total 22 columns):\n",
      " #   Column                    Non-Null Count  Dtype  \n",
      "---  ------                    --------------  -----  \n",
      " 0   Unnamed: 0                2875 non-null   int64  \n",
      " 1   acteur_1                  2875 non-null   object \n",
      " 2   acteur_2                  2748 non-null   object \n",
      " 3   acteur_3                  2733 non-null   object \n",
      " 4   allocine_id               2875 non-null   int64  \n",
      " 5   annee_prod                2875 non-null   int64  \n",
      " 6   annee_sortie              2690 non-null   float64\n",
      " 7   box_office_fr             1783 non-null   float64\n",
      " 8   couleur                   2708 non-null   object \n",
      " 9   duree                     2828 non-null   float64\n",
      " 10  langues                   2426 non-null   object \n",
      " 11  nationalite               2875 non-null   object \n",
      " 12  nb_critiques_presse       2020 non-null   float64\n",
      " 13  nb_critiques_spectateurs  2758 non-null   float64\n",
      " 14  nb_notes_spectateurs      2785 non-null   float64\n",
      " 15  note_presse               2049 non-null   float64\n",
      " 16  note_spectateurs          2788 non-null   float64\n",
      " 17  realisateurs              2875 non-null   object \n",
      " 18  synopsis                  2875 non-null   object \n",
      " 19  titre                     2875 non-null   object \n",
      " 20  type_film                 2215 non-null   object \n",
      " 21  genre                     2875 non-null   object \n",
      "dtypes: float64(8), int64(3), object(11)\n",
      "memory usage: 494.3+ KB\n"
     ]
    }
   ],
   "source": [
    "# check the size of the dataset and the type of the data\n",
    "df.info()"
   ]
  },
  {
   "cell_type": "code",
   "execution_count": 5,
   "metadata": {},
   "outputs": [
    {
     "data": {
      "text/plain": [
       "acteur_1                     0.000000\n",
       "acteur_2                     4.417391\n",
       "acteur_3                     4.939130\n",
       "allocine_id                  0.000000\n",
       "annee_prod                   0.000000\n",
       "annee_sortie                 6.434783\n",
       "box_office_fr               37.982609\n",
       "couleur                      5.808696\n",
       "duree                        1.634783\n",
       "langues                     15.617391\n",
       "nationalite                  0.000000\n",
       "nb_critiques_presse         29.739130\n",
       "nb_critiques_spectateurs     4.069565\n",
       "nb_notes_spectateurs         3.130435\n",
       "note_presse                 28.730435\n",
       "note_spectateurs             3.026087\n",
       "realisateurs                 0.000000\n",
       "synopsis                     0.000000\n",
       "titre                        0.000000\n",
       "type_film                   22.956522\n",
       "genre                        0.000000\n",
       "dtype: float64"
      ]
     },
     "execution_count": 5,
     "metadata": {},
     "output_type": "execute_result"
    }
   ],
   "source": [
    "# drop the first column\n",
    "df.drop(df.columns[0], axis=1, inplace=True)\n",
    "\n",
    "# check the percentage of missing values as an int \n",
    "df.isnull().sum() / df.shape[0] * 100\n"
   ]
  },
  {
   "attachments": {},
   "cell_type": "markdown",
   "metadata": {},
   "source": [
    "We're lucky that the columns we're gonna use have 0 missing values. We can see that the columns `titre`, `genre`, and `synopsis` have a no missing values. We will drop these columns."
   ]
  },
  {
   "cell_type": "code",
   "execution_count": 6,
   "metadata": {},
   "outputs": [
    {
     "data": {
      "text/html": [
       "<div>\n",
       "<style scoped>\n",
       "    .dataframe tbody tr th:only-of-type {\n",
       "        vertical-align: middle;\n",
       "    }\n",
       "\n",
       "    .dataframe tbody tr th {\n",
       "        vertical-align: top;\n",
       "    }\n",
       "\n",
       "    .dataframe thead th {\n",
       "        text-align: right;\n",
       "    }\n",
       "</style>\n",
       "<table border=\"1\" class=\"dataframe\">\n",
       "  <thead>\n",
       "    <tr style=\"text-align: right;\">\n",
       "      <th></th>\n",
       "      <th>synopsis</th>\n",
       "      <th>titre</th>\n",
       "      <th>genre</th>\n",
       "    </tr>\n",
       "  </thead>\n",
       "  <tbody>\n",
       "    <tr>\n",
       "      <th>count</th>\n",
       "      <td>2875</td>\n",
       "      <td>2875</td>\n",
       "      <td>2875</td>\n",
       "    </tr>\n",
       "    <tr>\n",
       "      <th>unique</th>\n",
       "      <td>2875</td>\n",
       "      <td>2846</td>\n",
       "      <td>9</td>\n",
       "    </tr>\n",
       "    <tr>\n",
       "      <th>top</th>\n",
       "      <td>En visite à Istanbul , le célèbre détective be...</td>\n",
       "      <td>Le Crime de l' Orient - Express</td>\n",
       "      <td>drame</td>\n",
       "    </tr>\n",
       "    <tr>\n",
       "      <th>freq</th>\n",
       "      <td>1</td>\n",
       "      <td>2</td>\n",
       "      <td>501</td>\n",
       "    </tr>\n",
       "  </tbody>\n",
       "</table>\n",
       "</div>"
      ],
      "text/plain": [
       "                                                 synopsis  \\\n",
       "count                                                2875   \n",
       "unique                                               2875   \n",
       "top     En visite à Istanbul , le célèbre détective be...   \n",
       "freq                                                    1   \n",
       "\n",
       "                                  titre  genre  \n",
       "count                              2875   2875  \n",
       "unique                             2846      9  \n",
       "top     Le Crime de l' Orient - Express  drame  \n",
       "freq                                  2    501  "
      ]
     },
     "execution_count": 6,
     "metadata": {},
     "output_type": "execute_result"
    }
   ],
   "source": [
    "# drop columns but keep synopsis, title and genres and create the dataframe we will use\n",
    "df_use = df.loc[:, ['synopsis', 'titre', 'genre']]\n",
    "\n",
    "df_use.describe()"
   ]
  },
  {
   "cell_type": "code",
   "execution_count": 7,
   "metadata": {},
   "outputs": [
    {
     "name": "stdout",
     "output_type": "stream",
     "text": [
      "drame              501\n",
      "comédie            483\n",
      "romance            443\n",
      "policier           331\n",
      "horreur            299\n",
      "science fiction    298\n",
      "biopic             191\n",
      "documentaire       167\n",
      "historique         162\n",
      "Name: genre, dtype: int64\n"
     ]
    },
    {
     "data": {
      "image/png": "[encoded data removed]",
      "text/plain": [
       "<Figure size 1200x800 with 1 Axes>"
      ]
     },
     "metadata": {},
     "output_type": "display_data"
    }
   ],
   "source": [
    "# show the movies that have a genre that appears only once\n",
    "print(df_use['genre'].value_counts())\n",
    "\n",
    "plt.figure(figsize=(12, 8))\n",
    "df_use['genre'].value_counts().plot(kind='pie', autopct='%1.1f%%', startangle=90)\n",
    "plt.show()"
   ]
  },
  {
   "attachments": {},
   "cell_type": "markdown",
   "metadata": {},
   "source": [
    "We can see that the most common genre are `drame`, `comédie` and `romance`. It also appears that there is no genre that is very rare, which is great as we will be able to train our model on all the genres. "
   ]
  },
  {
   "cell_type": "code",
   "execution_count": 8,
   "metadata": {},
   "outputs": [
    {
     "data": {
      "text/plain": [
       "0"
      ]
     },
     "execution_count": 8,
     "metadata": {},
     "output_type": "execute_result"
    }
   ],
   "source": [
    "# look for duplicates\n",
    "df_use.duplicated().sum()"
   ]
  },
  {
   "cell_type": "code",
   "execution_count": 9,
   "metadata": {},
   "outputs": [
    {
     "data": {
      "text/html": [
       "<div>\n",
       "<style scoped>\n",
       "    .dataframe tbody tr th:only-of-type {\n",
       "        vertical-align: middle;\n",
       "    }\n",
       "\n",
       "    .dataframe tbody tr th {\n",
       "        vertical-align: top;\n",
       "    }\n",
       "\n",
       "    .dataframe thead th {\n",
       "        text-align: right;\n",
       "    }\n",
       "</style>\n",
       "<table border=\"1\" class=\"dataframe\">\n",
       "  <thead>\n",
       "    <tr style=\"text-align: right;\">\n",
       "      <th></th>\n",
       "      <th>synopsis</th>\n",
       "      <th>titre</th>\n",
       "      <th>genre</th>\n",
       "    </tr>\n",
       "  </thead>\n",
       "  <tbody>\n",
       "    <tr>\n",
       "      <th>0</th>\n",
       "      <td>En visite à Istanbul , le célèbre détective be...</td>\n",
       "      <td>Le Crime de l' Orient - Express</td>\n",
       "      <td>policier</td>\n",
       "    </tr>\n",
       "    <tr>\n",
       "      <th>1</th>\n",
       "      <td>Un jeune homme d' origine modeste est accusé d...</td>\n",
       "      <td>12 hommes en colère</td>\n",
       "      <td>drame</td>\n",
       "    </tr>\n",
       "    <tr>\n",
       "      <th>2</th>\n",
       "      <td>Lorsque Marie-Laure , mère de quatre jeunes en...</td>\n",
       "      <td>Après moi le bonheur</td>\n",
       "      <td>drame</td>\n",
       "    </tr>\n",
       "    <tr>\n",
       "      <th>3</th>\n",
       "      <td>Un vagabond s’ éprend d’ une belle et jeune ve...</td>\n",
       "      <td>Les Lumières de la ville</td>\n",
       "      <td>romance</td>\n",
       "    </tr>\n",
       "    <tr>\n",
       "      <th>4</th>\n",
       "      <td>L' histoire vraie de Carl Brashear , premier A...</td>\n",
       "      <td>Les Chemins de la dignité</td>\n",
       "      <td>biopic</td>\n",
       "    </tr>\n",
       "  </tbody>\n",
       "</table>\n",
       "</div>"
      ],
      "text/plain": [
       "                                            synopsis  \\\n",
       "0  En visite à Istanbul , le célèbre détective be...   \n",
       "1  Un jeune homme d' origine modeste est accusé d...   \n",
       "2  Lorsque Marie-Laure , mère de quatre jeunes en...   \n",
       "3  Un vagabond s’ éprend d’ une belle et jeune ve...   \n",
       "4  L' histoire vraie de Carl Brashear , premier A...   \n",
       "\n",
       "                             titre     genre  \n",
       "0  Le Crime de l' Orient - Express  policier  \n",
       "1              12 hommes en colère     drame  \n",
       "2             Après moi le bonheur     drame  \n",
       "3         Les Lumières de la ville   romance  \n",
       "4        Les Chemins de la dignité    biopic  "
      ]
     },
     "execution_count": 9,
     "metadata": {},
     "output_type": "execute_result"
    }
   ],
   "source": [
    "df_use.head()"
   ]
  },
  {
   "attachments": {},
   "cell_type": "markdown",
   "metadata": {},
   "source": [
    "Now that we have cleaned our dataset a little bit, let's work on the synopsis and the title."
   ]
  },
  {
   "attachments": {},
   "cell_type": "markdown",
   "metadata": {},
   "source": [
    "## Cleaning the `title` column"
   ]
  },
  {
   "attachments": {},
   "cell_type": "markdown",
   "metadata": {},
   "source": [
    "We will start with the `title` column. We will first convert the text to lowercase and remove the punctuation and special characters."
   ]
  },
  {
   "attachments": {},
   "cell_type": "markdown",
   "metadata": {},
   "source": [
    "Now we will do what we call NER, which stands for Named Entity Recognition. We will use the `spacy` library to do that. We will use the `fr_core_news_sm` model. We will also use the `displacy` library to visualize the results.\n"
   ]
  },
  {
   "attachments": {},
   "cell_type": "markdown",
   "metadata": {},
   "source": [
    "We're gonna create another dataset where we will delete the NER tags to test it later."
   ]
  },
  {
   "cell_type": "code",
   "execution_count": 10,
   "metadata": {},
   "outputs": [],
   "source": [
    "\n",
    "\n",
    "\n",
    "def return_NER(sentence):\n",
    "    nlp = spacy.load('fr_core_news_sm')\n",
    "    doc = nlp(sentence)\n",
    "    return [(X.text, X.label_) for X in doc.ents]\n",
    "\n",
    "# create a new column with the NER_title\n",
    "df_use['NER_title'] = df_use['titre'].apply(lambda x: return_NER(x))\n",
    "\n"
   ]
  },
  {
   "cell_type": "code",
   "execution_count": 11,
   "metadata": {},
   "outputs": [],
   "source": [
    "\n",
    "\n",
    "def remove_NER(df_use,col):\n",
    "    if col == 'title':\n",
    "        df_use['NER_title'] = df_use['titre'].apply(lambda x: return_NER(x))\n",
    "\n",
    "        # Iterate through each row\n",
    "        for i, row in df_use.iterrows():\n",
    "            ners = row['NER_title']\n",
    "    \n",
    "            for ner in ners:\n",
    "                entity, tag = ner\n",
    "                row['titre'] = row['titre'].replace(entity, '')\n",
    "    if col == 'synopsis':\n",
    "        df_use['NER_synopsis'] = df_use['synopsis'].apply(lambda x: return_NER(x))\n",
    "\n",
    "        # Iterate through each row\n",
    "        for i, row in df_use.iterrows():\n",
    "            ners = row['NER_synopsis']\n",
    "    \n",
    "            for ner in ners:\n",
    "                entity, tag = ner\n",
    "                row['synopsis'] = row['synopsis'].replace(entity, '')\n",
    "                \n",
    "                \n",
    "remove_NER(df_use,'title')"
   ]
  },
  {
   "cell_type": "code",
   "execution_count": 12,
   "metadata": {},
   "outputs": [
    {
     "data": {
      "text/plain": [
       "0                        \n",
       "1     12 hommes en colère\n",
       "2    après moi le bonheur\n",
       "3                        \n",
       "4                    les \n",
       "Name: titre, dtype: object"
      ]
     },
     "execution_count": 12,
     "metadata": {},
     "output_type": "execute_result"
    }
   ],
   "source": [
    "# convert the title to lowercase\n",
    "df_use['titre'] = df_use['titre'].str.lower()\n",
    "\n",
    "df_use.titre.head()"
   ]
  },
  {
   "attachments": {},
   "cell_type": "markdown",
   "metadata": {},
   "source": [
    "Now we remove punctuation and special characters. We will also remove the stopwords. We will use the `nltk` library to do that."
   ]
  },
  {
   "cell_type": "code",
   "execution_count": 13,
   "metadata": {},
   "outputs": [
    {
     "data": {
      "text/plain": [
       "0                        \n",
       "1     12 hommes en colère\n",
       "2    après moi le bonheur\n",
       "3                        \n",
       "4                    les \n",
       "Name: titre, dtype: object"
      ]
     },
     "execution_count": 13,
     "metadata": {},
     "output_type": "execute_result"
    }
   ],
   "source": [
    "# replace the character - with a space\n",
    "df_use['titre'] = df_use['titre'].str.replace('-', ' ')\n",
    "# replace the character ' with a space\n",
    "df_use['titre'] = df_use['titre'].str.replace(\"'\", ' ')\n",
    "\n",
    "\n",
    "translator = str.maketrans('', '', string.punctuation)\n",
    "df_use['titre'] = df_use['titre'].apply(lambda x: x.translate(translator))\n",
    "\n",
    "df_use.titre.head(5)"
   ]
  },
  {
   "attachments": {},
   "cell_type": "markdown",
   "metadata": {},
   "source": [
    "We made sure to replace `-` and `'` with a space so that we don't lose the meaning of the words."
   ]
  },
  {
   "cell_type": "code",
   "execution_count": 14,
   "metadata": {},
   "outputs": [
    {
     "name": "stdout",
     "output_type": "stream",
     "text": [
      "['au', 'aux', 'avec', 'ce', 'ces', 'dans', 'de', 'des', 'du', 'elle', 'en', 'et', 'eux', 'il', 'ils', 'je', 'la', 'le', 'les', 'leur', 'lui', 'ma', 'mais', 'me', 'même', 'mes', 'moi', 'mon', 'ne', 'nos', 'notre', 'nous', 'on', 'ou', 'par', 'pas', 'pour', 'qu', 'que', 'qui', 'sa', 'se', 'ses', 'son', 'sur', 'ta', 'te', 'tes', 'toi', 'ton', 'tu', 'un', 'une', 'vos', 'votre', 'vous', 'c', 'd', 'j', 'l', 'à', 'm', 'n', 's', 't', 'y', 'été', 'étée', 'étées', 'étés', 'étant', 'étante', 'étants', 'étantes', 'suis', 'es', 'est', 'sommes', 'êtes', 'sont', 'serai', 'seras', 'sera', 'serons', 'serez', 'seront', 'serais', 'serait', 'serions', 'seriez', 'seraient', 'étais', 'était', 'étions', 'étiez', 'étaient', 'fus', 'fut', 'fûmes', 'fûtes', 'furent', 'sois', 'soit', 'soyons', 'soyez', 'soient', 'fusse', 'fusses', 'fût', 'fussions', 'fussiez', 'fussent', 'ayant', 'ayante', 'ayantes', 'ayants', 'eu', 'eue', 'eues', 'eus', 'ai', 'as', 'avons', 'avez', 'ont', 'aurai', 'auras', 'aura', 'aurons', 'aurez', 'auront', 'aurais', 'aurait', 'aurions', 'auriez', 'auraient', 'avais', 'avait', 'avions', 'aviez', 'avaient', 'eut', 'eûmes', 'eûtes', 'eurent', 'aie', 'aies', 'ait', 'ayons', 'ayez', 'aient', 'eusse', 'eusses', 'eût', 'eussions', 'eussiez', 'eussent']\n"
     ]
    }
   ],
   "source": [
    "\n",
    "# create a new column for tokenized title\n",
    "df_use['tokenized_title'] = df_use['titre'].apply(lambda x: x.split())\n",
    "\n",
    "# remove the stopwords\n",
    "from nltk.corpus import stopwords\n",
    "stop_words = stopwords.words('french')\n",
    "print(stop_words)\n",
    "\n",
    "df_use['tokenized_title'] = df_use['tokenized_title'].apply(lambda x: [item for item in x if item not in stop_words])\n",
    "\n",
    "# remove numbers\n",
    "df_use['tokenized_title'] = df_use['tokenized_title'].apply(lambda x: [item for item in x if not item.isdigit()])\n"
   ]
  },
  {
   "attachments": {},
   "cell_type": "markdown",
   "metadata": {},
   "source": [
    "Now we're gonna do stemming. We will use the `nltk` library to do that. We will use the `FrenchStemmer` class."
   ]
  },
  {
   "cell_type": "code",
   "execution_count": 15,
   "metadata": {},
   "outputs": [
    {
     "data": {
      "text/plain": [
       "[('a', 28),\n",
       " ('the', 27),\n",
       " ('tout', 24),\n",
       " ('vi', 22),\n",
       " ('homm', 21),\n",
       " ('jour', 21),\n",
       " ('deux', 17),\n",
       " ('comm', 16),\n",
       " ('amour', 16),\n",
       " ('femm', 16),\n",
       " ('si', 15),\n",
       " ('an', 14),\n",
       " ('nuit', 14),\n",
       " ('autr', 12),\n",
       " ('mond', 12),\n",
       " ('plus', 11),\n",
       " ('of', 11),\n",
       " ('chapitr', 11),\n",
       " ('san', 10),\n",
       " ('tous', 10)]"
      ]
     },
     "execution_count": 15,
     "metadata": {},
     "output_type": "execute_result"
    }
   ],
   "source": [
    "# stem the words\n",
    "from nltk.stem.snowball import FrenchStemmer\n",
    "stemmer = FrenchStemmer()\n",
    "df_use['tokenized_title'] = df_use['tokenized_title'].apply(lambda x: [stemmer.stem(item) for item in x])\n",
    "\n",
    "\n",
    "# list the most common words in the tokenized title\n",
    "from collections import Counter\n",
    "\n",
    "words = []\n",
    "for i in df_use['tokenized_title']:\n",
    "    words.extend(i)\n",
    "    \n",
    "Counter(words).most_common(20)"
   ]
  },
  {
   "attachments": {},
   "cell_type": "markdown",
   "metadata": {},
   "source": [
    "Let's add a custom list of stopwords"
   ]
  },
  {
   "cell_type": "code",
   "execution_count": 16,
   "metadata": {},
   "outputs": [
    {
     "data": {
      "text/plain": [
       "0                  []\n",
       "1       [homm, coler]\n",
       "2    [apres, bonheur]\n",
       "3                  []\n",
       "4                  []\n",
       "Name: tokenized_title, dtype: object"
      ]
     },
     "execution_count": 16,
     "metadata": {},
     "output_type": "execute_result"
    }
   ],
   "source": [
    "custom_stopwords = [\"the\", \"a\", \"an\", \"and\", \"or\", \"of\", \"to\", \n",
    "                    \"in\", \"for\", \"on\", \"with\", \"at\", \"by\", \n",
    "                    \"from\", \"as\", \"into\", \"like\", \"through\", \n",
    "                    \"after\", \"over\", \"between\", \"out\", \"against\",\n",
    "                    \"during\", \"without\", \"before\", \"under\", \n",
    "                    \"around\", \"among\", \"throughout\", \"des\", \n",
    "                    \"du\", \"de\", \"la\", \"le\", \"les\", \"un\", \n",
    "                    \"une\", \"et\", \"ou\", \"pour\", \"dans\", \n",
    "                    \"sur\", \"par\", \"avec\", \"à\", \"en\", \"au\",\n",
    "                    \"aux\", \"du\", \"des\", \"de\", \"la\", \"le\", \n",
    "                    \"les\", \"un\", \"une\", \"et\", \"ou\", \"pour\", \n",
    "                    \"dans\", \"sur\", \"par\", \"avec\", \"à\", \"en\", \n",
    "                    \"au\", \"aux\", \"du\", \"des\", \"de\", \"la\", \"le\", \n",
    "                    \"les\", \"un\", \"une\", \"et\", \"ou\", \"pour\", \"dans\",\n",
    "                    \"sur\", \"par\", \"avec\", \"à\", \"en\", \"au\", \"aux\", \n",
    "                    \"du\", \"des\", \"de\", \"la\", \"le\", \"les\", \"un\", \n",
    "                    \"une\", \"et\", \"ou\", \"pour\", \"dans\", \"sur\", \n",
    "                    \"par\", \"avec\", \"à\", \"en\", \"au\", \"aux\", \"du\", \n",
    "                    \"des\", \"de\", \"la\", \"le\", \"les\", \"un\", \"une\", \n",
    "                    \"et\", \"ou\", \"pour\", \"dans\", \"sur\", \"par\", \"avec\",\n",
    "                    \"à\", \"en\", \"au\", \"aux\", \"du\", \"des\", \"de\", \"la\",\n",
    "                    \"le\", \"les\", \"un\", \"une\", \"et\", \"ou\", \"pour\", \n",
    "                    \"dans\", \"sur\", \"par\", \"avec\", \"à\", \"en\", \"au\", \"aux\", \"du\", \n",
    "                    \"des\", \"de\", \"la\", \"le\", \"les\", \"un\", \"une\", \"et\", \"ou\", \n",
    "                    \"pour\", \"dans\", \"sur\", \"par\", \"avec\", \"à\", \"en\", \"au\", \n",
    "                    \"aux\", \"du\", \"des\", \"l\",\"1\",\"2\",\"3\",\"4\",\"5\",\"6\",\"7\",\"8\",\"9\",\"0\"]\n",
    "\n",
    "df_use['tokenized_title'] = df_use['tokenized_title'].apply(lambda x: [item for item in x if item not in custom_stopwords])\n",
    "\n",
    "words = []\n",
    "for i in df_use['tokenized_title']:\n",
    "    words.extend(i)\n",
    "    \n",
    "Counter(words).most_common(20)\n",
    "\n",
    "df_use['tokenized_title'].head()"
   ]
  },
  {
   "attachments": {},
   "cell_type": "markdown",
   "metadata": {},
   "source": [
    "Now that we have done all that, let's group all these steps into a function so that we can apply it to the `synopsis` column."
   ]
  },
  {
   "cell_type": "code",
   "execution_count": 17,
   "metadata": {},
   "outputs": [],
   "source": [
    "def preprocess_text(text):\n",
    "    text = text.lower()\n",
    "    text = text.replace('-', ' ')\n",
    "    text = text.replace(\"'\", ' ')\n",
    "    translator = str.maketrans('', '', string.punctuation)\n",
    "    text = text.translate(translator)\n",
    "    text = text.split()\n",
    "    # remove numbers\n",
    "    text = [item for item in text if item.isalpha()]\n",
    "    return text\n",
    "\n",
    "def stem(text,custom_stopwords=[]):\n",
    "    stemmer = FrenchStemmer()\n",
    "    text = [stemmer.stem(item) for item in text]\n",
    "    text = [item for item in text if item not in custom_stopwords]\n",
    "    return text"
   ]
  },
  {
   "attachments": {},
   "cell_type": "markdown",
   "metadata": {},
   "source": [
    "## Cleaning the `synopsis` column"
   ]
  },
  {
   "cell_type": "code",
   "execution_count": 18,
   "metadata": {},
   "outputs": [
    {
     "data": {
      "text/html": [
       "<div>\n",
       "<style scoped>\n",
       "    .dataframe tbody tr th:only-of-type {\n",
       "        vertical-align: middle;\n",
       "    }\n",
       "\n",
       "    .dataframe tbody tr th {\n",
       "        vertical-align: top;\n",
       "    }\n",
       "\n",
       "    .dataframe thead th {\n",
       "        text-align: right;\n",
       "    }\n",
       "</style>\n",
       "<table border=\"1\" class=\"dataframe\">\n",
       "  <thead>\n",
       "    <tr style=\"text-align: right;\">\n",
       "      <th></th>\n",
       "      <th>synopsis</th>\n",
       "      <th>titre</th>\n",
       "      <th>genre</th>\n",
       "      <th>NER_title</th>\n",
       "      <th>tokenized_title</th>\n",
       "      <th>NER_synopsis</th>\n",
       "      <th>tokenized_synopsis</th>\n",
       "    </tr>\n",
       "  </thead>\n",
       "  <tbody>\n",
       "    <tr>\n",
       "      <th>0</th>\n",
       "      <td>En visite à  , le célèbre détective belge  emb...</td>\n",
       "      <td></td>\n",
       "      <td>policier</td>\n",
       "      <td>[(Le Crime de l' Orient - Express, MISC)]</td>\n",
       "      <td>[]</td>\n",
       "      <td>[(Istanbul, LOC), (Hercule Poirot, PER), (Cala...</td>\n",
       "      <td>[visit, célebr, détect, belg, embarqu, dan, or...</td>\n",
       "    </tr>\n",
       "    <tr>\n",
       "      <th>1</th>\n",
       "      <td>Un jeune homme d' origine modeste est accusé d...</td>\n",
       "      <td>12 hommes en colère</td>\n",
       "      <td>drame</td>\n",
       "      <td>[]</td>\n",
       "      <td>[homm, coler]</td>\n",
       "      <td>[]</td>\n",
       "      <td>[jeun, homm, d, origin, modest, est, accus, me...</td>\n",
       "    </tr>\n",
       "    <tr>\n",
       "      <th>2</th>\n",
       "      <td>Lorsque  , mère de quatre jeunes enfants , app...</td>\n",
       "      <td>après moi le bonheur</td>\n",
       "      <td>drame</td>\n",
       "      <td>[]</td>\n",
       "      <td>[apres, bonheur]</td>\n",
       "      <td>[(Marie-Laure, LOC), (Marie-Laure, LOC)]</td>\n",
       "      <td>[lorsqu, mer, quatr, jeun, enfant, apprend, br...</td>\n",
       "    </tr>\n",
       "    <tr>\n",
       "      <th>3</th>\n",
       "      <td>Un vagabond s’ éprend d’ une belle et jeune ve...</td>\n",
       "      <td></td>\n",
       "      <td>romance</td>\n",
       "      <td>[(Les Lumières de la ville, MISC)]</td>\n",
       "      <td>[]</td>\n",
       "      <td>[]</td>\n",
       "      <td>[vagabond, éprend, bel, jeun, vendeux, fleur, ...</td>\n",
       "    </tr>\n",
       "    <tr>\n",
       "      <th>4</th>\n",
       "      <td>L' histoire vraie de  , premier Afro - América...</td>\n",
       "      <td>les</td>\n",
       "      <td>biopic</td>\n",
       "      <td>[(Chemins de la dignité, MISC)]</td>\n",
       "      <td>[]</td>\n",
       "      <td>[(Carl Brashear, PER), (Navy, LOC), (Seconde G...</td>\n",
       "      <td>[histoir, vrai, premi, afro, américain, avoir,...</td>\n",
       "    </tr>\n",
       "  </tbody>\n",
       "</table>\n",
       "</div>"
      ],
      "text/plain": [
       "                                            synopsis                 titre  \\\n",
       "0  En visite à  , le célèbre détective belge  emb...                         \n",
       "1  Un jeune homme d' origine modeste est accusé d...   12 hommes en colère   \n",
       "2  Lorsque  , mère de quatre jeunes enfants , app...  après moi le bonheur   \n",
       "3  Un vagabond s’ éprend d’ une belle et jeune ve...                         \n",
       "4  L' histoire vraie de  , premier Afro - América...                  les    \n",
       "\n",
       "      genre                                  NER_title   tokenized_title  \\\n",
       "0  policier  [(Le Crime de l' Orient - Express, MISC)]                []   \n",
       "1     drame                                         []     [homm, coler]   \n",
       "2     drame                                         []  [apres, bonheur]   \n",
       "3   romance         [(Les Lumières de la ville, MISC)]                []   \n",
       "4    biopic            [(Chemins de la dignité, MISC)]                []   \n",
       "\n",
       "                                        NER_synopsis  \\\n",
       "0  [(Istanbul, LOC), (Hercule Poirot, PER), (Cala...   \n",
       "1                                                 []   \n",
       "2           [(Marie-Laure, LOC), (Marie-Laure, LOC)]   \n",
       "3                                                 []   \n",
       "4  [(Carl Brashear, PER), (Navy, LOC), (Seconde G...   \n",
       "\n",
       "                                  tokenized_synopsis  \n",
       "0  [visit, célebr, détect, belg, embarqu, dan, or...  \n",
       "1  [jeun, homm, d, origin, modest, est, accus, me...  \n",
       "2  [lorsqu, mer, quatr, jeun, enfant, apprend, br...  \n",
       "3  [vagabond, éprend, bel, jeun, vendeux, fleur, ...  \n",
       "4  [histoir, vrai, premi, afro, américain, avoir,...  "
      ]
     },
     "execution_count": 18,
     "metadata": {},
     "output_type": "execute_result"
    }
   ],
   "source": [
    "# add an empty column named ner_synopsis\n",
    "df_use['NER_synopsis'] = df_use['synopsis'].apply(lambda x: return_NER(x))\n",
    "remove_NER(df_use,'synopsis')\n",
    "df_use['tokenized_synopsis'] = df_use['synopsis'].apply(preprocess_text)\n",
    "df_use['tokenized_synopsis'] = df_use['tokenized_synopsis'].apply(lambda x: stem(x, custom_stopwords))\n",
    "\n",
    "df_use.head()"
   ]
  },
  {
   "attachments": {},
   "cell_type": "markdown",
   "metadata": {},
   "source": [
    "## Final cleaning"
   ]
  },
  {
   "cell_type": "code",
   "execution_count": 19,
   "metadata": {},
   "outputs": [],
   "source": [
    "\n",
    "df_new = pd.DataFrame()\n",
    "\n",
    "# now we can create a new column that combines the tokenized title and synopsis\n",
    "df_new['tokenized'] = df_use['tokenized_title'] + df_use['tokenized_synopsis']\n",
    "df_new['genre'] = df_use['genre']\n",
    "\n",
    "# create a new column that contains the length of the tokenized text\n",
    "df_new['length'] = df_new['tokenized'].apply(lambda x: len(x))\n",
    "\n",
    "# detect the rows with length 0\n",
    "# we can see that there are none\n",
    "df_new[df_new['length'] == 0]\n",
    "\n",
    "df_new.head()\n",
    "\n",
    "# save the dataframe to a csv file\n",
    "df_new.to_csv('preprocessed_data.csv', index=False)\n"
   ]
  },
  {
   "attachments": {},
   "cell_type": "markdown",
   "metadata": {},
   "source": [
    "## Final function \n",
    "\n",
    "Now let's sum up all the steps we did in a function so that we can apply it to the `synopsis` and `title` columns, in the dataset and the test dataset."
   ]
  },
  {
   "cell_type": "code",
   "execution_count": 27,
   "metadata": {},
   "outputs": [],
   "source": [
    "def preprocess_data(df):\n",
    "    # title\n",
    "    df = df.loc[:, ['synopsis', 'titre', 'genre']]\n",
    "    df['NER_title'] = df['titre'].apply(lambda x: return_NER(x))\n",
    "    remove_NER(df,'title')\n",
    "    df['tokenized_title'] = df['titre'].apply(preprocess_text)\n",
    "    df['tokenized_title'] = df['tokenized_title'].apply(lambda x: stem(x, custom_stopwords))\n",
    "    # synopsis\n",
    "    df['NER_synopsis'] = df['synopsis'].apply(lambda x: return_NER(x))\n",
    "    remove_NER(df,'synopsis')\n",
    "    df['tokenized_synopsis'] = df['synopsis'].apply(preprocess_text)\n",
    "    df['tokenized_synopsis'] = df['tokenized_synopsis'].apply(lambda x: stem(x, custom_stopwords))\n",
    "    # combine title and synopsis\n",
    "    df_new = pd.DataFrame()\n",
    "    df_new['tokenized'] = df['tokenized_title'] + df['tokenized_synopsis']\n",
    "    df_new['genre'] = df['genre']\n",
    "    df_new['length'] = df_new['tokenized'].apply(lambda x: len(x))\n",
    "    return df_new"
   ]
  },
  {
   "cell_type": "code",
   "execution_count": 28,
   "metadata": {},
   "outputs": [],
   "source": [
    "df_test = pd.read_csv('../data/allocine_genres_test.csv')\n",
    "\n",
    "df_test.head()\n",
    "\n",
    "df_test_new = preprocess_data(df_test)"
   ]
  },
  {
   "cell_type": "code",
   "execution_count": 30,
   "metadata": {},
   "outputs": [],
   "source": [
    "df_test_new.to_csv('preprocessed_data_test.csv', index=False)"
   ]
  }
 ],
 "metadata": {
  "kernelspec": {
   "display_name": "Python 3",
   "language": "python",
   "name": "python3"
  },
  "language_info": {
   "codemirror_mode": {
    "name": "ipython",
    "version": 3
   },
   "file_extension": ".py",
   "mimetype": "text/x-python",
   "name": "python",
   "nbconvert_exporter": "python",
   "pygments_lexer": "ipython3",
   "version": "3.9.0"
  },
  "orig_nbformat": 4
 },
 "nbformat": 4,
 "nbformat_minor": 2
}
